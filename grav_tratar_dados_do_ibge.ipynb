{
  "nbformat": 4,
  "nbformat_minor": 0,
  "metadata": {
    "colab": {
      "provenance": [],
      "authorship_tag": "ABX9TyPiYDyxxvY2cd6KQ64XTh0r",
      "include_colab_link": true
    },
    "kernelspec": {
      "name": "python3",
      "display_name": "Python 3"
    },
    "language_info": {
      "name": "python"
    }
  },
  "cells": [
    {
      "cell_type": "markdown",
      "metadata": {
        "id": "view-in-github",
        "colab_type": "text"
      },
      "source": [
        "<a href=\"https://colab.research.google.com/github/lszam/gds-ssebrazil/blob/main/grav_tratar_dados_do_ibge.ipynb\" target=\"_parent\"><img src=\"https://colab.research.google.com/assets/colab-badge.svg\" alt=\"Open In Colab\"/></a>"
      ]
    },
    {
      "cell_type": "markdown",
      "source": [
        "Gravimetria - Ajustar dados do IBGE para concatenação como outros dados"
      ],
      "metadata": {
        "id": "PfTPyLcrAevx"
      }
    },
    {
      "cell_type": "code",
      "source": [
        "import zipfile\n",
        "import os\n",
        "import geopandas as gpd\n",
        "import pandas as pd\n",
        "from google.colab import files\n",
        "\n",
        "# === 1. FAZER UPLOAD DO ARQUIVO ZIP ORIGINAL ===\n",
        "uploaded = files.upload()"
      ],
      "metadata": {
        "colab": {
          "base_uri": "https://localhost:8080/",
          "height": 73
        },
        "id": "5FzzPRQHBLIa",
        "outputId": "167dee44-8781-4169-f9bb-dbeba2c77bb6"
      },
      "execution_count": 2,
      "outputs": [
        {
          "output_type": "display_data",
          "data": {
            "text/plain": [
              "<IPython.core.display.HTML object>"
            ],
            "text/html": [
              "\n",
              "     <input type=\"file\" id=\"files-2a57ccdd-b510-41f5-8b56-5f43e6a780e9\" name=\"files[]\" multiple disabled\n",
              "        style=\"border:none\" />\n",
              "     <output id=\"result-2a57ccdd-b510-41f5-8b56-5f43e6a780e9\">\n",
              "      Upload widget is only available when the cell has been executed in the\n",
              "      current browser session. Please rerun this cell to enable.\n",
              "      </output>\n",
              "      <script>// Copyright 2017 Google LLC\n",
              "//\n",
              "// Licensed under the Apache License, Version 2.0 (the \"License\");\n",
              "// you may not use this file except in compliance with the License.\n",
              "// You may obtain a copy of the License at\n",
              "//\n",
              "//      http://www.apache.org/licenses/LICENSE-2.0\n",
              "//\n",
              "// Unless required by applicable law or agreed to in writing, software\n",
              "// distributed under the License is distributed on an \"AS IS\" BASIS,\n",
              "// WITHOUT WARRANTIES OR CONDITIONS OF ANY KIND, either express or implied.\n",
              "// See the License for the specific language governing permissions and\n",
              "// limitations under the License.\n",
              "\n",
              "/**\n",
              " * @fileoverview Helpers for google.colab Python module.\n",
              " */\n",
              "(function(scope) {\n",
              "function span(text, styleAttributes = {}) {\n",
              "  const element = document.createElement('span');\n",
              "  element.textContent = text;\n",
              "  for (const key of Object.keys(styleAttributes)) {\n",
              "    element.style[key] = styleAttributes[key];\n",
              "  }\n",
              "  return element;\n",
              "}\n",
              "\n",
              "// Max number of bytes which will be uploaded at a time.\n",
              "const MAX_PAYLOAD_SIZE = 100 * 1024;\n",
              "\n",
              "function _uploadFiles(inputId, outputId) {\n",
              "  const steps = uploadFilesStep(inputId, outputId);\n",
              "  const outputElement = document.getElementById(outputId);\n",
              "  // Cache steps on the outputElement to make it available for the next call\n",
              "  // to uploadFilesContinue from Python.\n",
              "  outputElement.steps = steps;\n",
              "\n",
              "  return _uploadFilesContinue(outputId);\n",
              "}\n",
              "\n",
              "// This is roughly an async generator (not supported in the browser yet),\n",
              "// where there are multiple asynchronous steps and the Python side is going\n",
              "// to poll for completion of each step.\n",
              "// This uses a Promise to block the python side on completion of each step,\n",
              "// then passes the result of the previous step as the input to the next step.\n",
              "function _uploadFilesContinue(outputId) {\n",
              "  const outputElement = document.getElementById(outputId);\n",
              "  const steps = outputElement.steps;\n",
              "\n",
              "  const next = steps.next(outputElement.lastPromiseValue);\n",
              "  return Promise.resolve(next.value.promise).then((value) => {\n",
              "    // Cache the last promise value to make it available to the next\n",
              "    // step of the generator.\n",
              "    outputElement.lastPromiseValue = value;\n",
              "    return next.value.response;\n",
              "  });\n",
              "}\n",
              "\n",
              "/**\n",
              " * Generator function which is called between each async step of the upload\n",
              " * process.\n",
              " * @param {string} inputId Element ID of the input file picker element.\n",
              " * @param {string} outputId Element ID of the output display.\n",
              " * @return {!Iterable<!Object>} Iterable of next steps.\n",
              " */\n",
              "function* uploadFilesStep(inputId, outputId) {\n",
              "  const inputElement = document.getElementById(inputId);\n",
              "  inputElement.disabled = false;\n",
              "\n",
              "  const outputElement = document.getElementById(outputId);\n",
              "  outputElement.innerHTML = '';\n",
              "\n",
              "  const pickedPromise = new Promise((resolve) => {\n",
              "    inputElement.addEventListener('change', (e) => {\n",
              "      resolve(e.target.files);\n",
              "    });\n",
              "  });\n",
              "\n",
              "  const cancel = document.createElement('button');\n",
              "  inputElement.parentElement.appendChild(cancel);\n",
              "  cancel.textContent = 'Cancel upload';\n",
              "  const cancelPromise = new Promise((resolve) => {\n",
              "    cancel.onclick = () => {\n",
              "      resolve(null);\n",
              "    };\n",
              "  });\n",
              "\n",
              "  // Wait for the user to pick the files.\n",
              "  const files = yield {\n",
              "    promise: Promise.race([pickedPromise, cancelPromise]),\n",
              "    response: {\n",
              "      action: 'starting',\n",
              "    }\n",
              "  };\n",
              "\n",
              "  cancel.remove();\n",
              "\n",
              "  // Disable the input element since further picks are not allowed.\n",
              "  inputElement.disabled = true;\n",
              "\n",
              "  if (!files) {\n",
              "    return {\n",
              "      response: {\n",
              "        action: 'complete',\n",
              "      }\n",
              "    };\n",
              "  }\n",
              "\n",
              "  for (const file of files) {\n",
              "    const li = document.createElement('li');\n",
              "    li.append(span(file.name, {fontWeight: 'bold'}));\n",
              "    li.append(span(\n",
              "        `(${file.type || 'n/a'}) - ${file.size} bytes, ` +\n",
              "        `last modified: ${\n",
              "            file.lastModifiedDate ? file.lastModifiedDate.toLocaleDateString() :\n",
              "                                    'n/a'} - `));\n",
              "    const percent = span('0% done');\n",
              "    li.appendChild(percent);\n",
              "\n",
              "    outputElement.appendChild(li);\n",
              "\n",
              "    const fileDataPromise = new Promise((resolve) => {\n",
              "      const reader = new FileReader();\n",
              "      reader.onload = (e) => {\n",
              "        resolve(e.target.result);\n",
              "      };\n",
              "      reader.readAsArrayBuffer(file);\n",
              "    });\n",
              "    // Wait for the data to be ready.\n",
              "    let fileData = yield {\n",
              "      promise: fileDataPromise,\n",
              "      response: {\n",
              "        action: 'continue',\n",
              "      }\n",
              "    };\n",
              "\n",
              "    // Use a chunked sending to avoid message size limits. See b/62115660.\n",
              "    let position = 0;\n",
              "    do {\n",
              "      const length = Math.min(fileData.byteLength - position, MAX_PAYLOAD_SIZE);\n",
              "      const chunk = new Uint8Array(fileData, position, length);\n",
              "      position += length;\n",
              "\n",
              "      const base64 = btoa(String.fromCharCode.apply(null, chunk));\n",
              "      yield {\n",
              "        response: {\n",
              "          action: 'append',\n",
              "          file: file.name,\n",
              "          data: base64,\n",
              "        },\n",
              "      };\n",
              "\n",
              "      let percentDone = fileData.byteLength === 0 ?\n",
              "          100 :\n",
              "          Math.round((position / fileData.byteLength) * 100);\n",
              "      percent.textContent = `${percentDone}% done`;\n",
              "\n",
              "    } while (position < fileData.byteLength);\n",
              "  }\n",
              "\n",
              "  // All done.\n",
              "  yield {\n",
              "    response: {\n",
              "      action: 'complete',\n",
              "    }\n",
              "  };\n",
              "}\n",
              "\n",
              "scope.google = scope.google || {};\n",
              "scope.google.colab = scope.google.colab || {};\n",
              "scope.google.colab._files = {\n",
              "  _uploadFiles,\n",
              "  _uploadFilesContinue,\n",
              "};\n",
              "})(self);\n",
              "</script> "
            ]
          },
          "metadata": {}
        },
        {
          "output_type": "stream",
          "name": "stdout",
          "text": [
            "Saving ibge_25fev2025.zip to ibge_25fev2025.zip\n"
          ]
        }
      ]
    },
    {
      "cell_type": "code",
      "source": [
        "# === 2. EXTRAIR OS ARQUIVOS DO ZIP ===\n",
        "\n",
        "# Obter o nome do arquivo ZIP\n",
        "zip_filename = list(uploaded.keys())[0]\n",
        "\n",
        "# Criar pasta temporária para extração\n",
        "extract_path = \"/content/shapefile_extracted\"\n",
        "os.makedirs(extract_path, exist_ok=True)\n",
        "\n",
        "with zipfile.ZipFile(zip_filename, 'r') as zip_ref:\n",
        "    zip_ref.extractall(extract_path)"
      ],
      "metadata": {
        "id": "5FqUUGqwBXLo"
      },
      "execution_count": 3,
      "outputs": []
    },
    {
      "cell_type": "code",
      "source": [
        "# Identificar o arquivo .shp dentro da pasta extraída\n",
        "shapefile_path = None\n",
        "for file in os.listdir(extract_path):\n",
        "    if file.endswith(\".shp\"):\n",
        "        shapefile_path = os.path.join(extract_path, file)\n",
        "        break\n",
        "\n",
        "if shapefile_path is None:\n",
        "    raise ValueError(\"😕 Nenhum arquivo .shp encontrado no ZIP!\")\n",
        "else:\n",
        "    print(\"✅ Arquivo .shp encontrado!\")"
      ],
      "metadata": {
        "colab": {
          "base_uri": "https://localhost:8080/"
        },
        "id": "kVYPElXlBsyh",
        "outputId": "da0c9806-35e5-487c-ca38-cb2af0a891c5"
      },
      "execution_count": 8,
      "outputs": [
        {
          "output_type": "stream",
          "name": "stdout",
          "text": [
            "✅ Arquivo .shp encontrado!\n"
          ]
        }
      ]
    },
    {
      "cell_type": "code",
      "source": [
        "# === 3. CARREGAR O SHAPEFILE ===\n",
        "gdf = gpd.read_file(shapefile_path)\n",
        "\n",
        "# === 4. SELECIONAR COLUNAS DESEJADAS ===\n",
        "columns_to_keep = {\n",
        "    \"LATITUDE\": \"LAT\",\n",
        "    \"LONGITUDE\": \"LON\",\n",
        "    \"ALTGEOM\": \"ALT_GEOM\",\n",
        "    \"ALTO_ORTO\": \"ALT_ORTO\",\n",
        "    \"ALT_NORMAL\": \"ALT_NORM\",\n",
        "    \"ESTACAO\": \"ESTACAO\",\n",
        "    \"DATUM_ALT\": \"DAT_ALT\",\n",
        "    \"FONT_ALT\": \"FNT_ALT\",\n",
        "    \"MEDICAOALT\": \"MED_ALT\",\n",
        "    \"CALCULOALT\": \"CAL_ALT\",\n",
        "    \"GRAVIDADE\": \"GRAV\",\n",
        "    \"MEDICAOGRA\": \"MED_GRA\",\n",
        "    \"CALCULOGRA\": \"CAL_GRA\",\n",
        "    \"DATUM_GRA\": \"DAT_GRA\"\n",
        "}\n",
        "\n",
        "# Filtrar colunas existentes no shapefile e renomeá-las\n",
        "columns_present = {k: v for k, v in columns_to_keep.items() if k in gdf.columns}\n",
        "gdf_selected = gdf[list(columns_present.keys())].rename(columns=columns_present)"
      ],
      "metadata": {
        "id": "6mn8DgcaBxso"
      },
      "execution_count": 5,
      "outputs": []
    },
    {
      "cell_type": "code",
      "execution_count": 6,
      "metadata": {
        "colab": {
          "base_uri": "https://localhost:8080/",
          "height": 35
        },
        "id": "cXIx265r-0L4",
        "outputId": "d7c6e5a0-8ff2-4e60-fb12-be94986ed8ae"
      },
      "outputs": [
        {
          "output_type": "display_data",
          "data": {
            "text/plain": [
              "<IPython.core.display.Javascript object>"
            ],
            "application/javascript": [
              "\n",
              "    async function download(id, filename, size) {\n",
              "      if (!google.colab.kernel.accessAllowed) {\n",
              "        return;\n",
              "      }\n",
              "      const div = document.createElement('div');\n",
              "      const label = document.createElement('label');\n",
              "      label.textContent = `Downloading \"${filename}\": `;\n",
              "      div.appendChild(label);\n",
              "      const progress = document.createElement('progress');\n",
              "      progress.max = size;\n",
              "      div.appendChild(progress);\n",
              "      document.body.appendChild(div);\n",
              "\n",
              "      const buffers = [];\n",
              "      let downloaded = 0;\n",
              "\n",
              "      const channel = await google.colab.kernel.comms.open(id);\n",
              "      // Send a message to notify the kernel that we're ready.\n",
              "      channel.send({})\n",
              "\n",
              "      for await (const message of channel.messages) {\n",
              "        // Send a message to notify the kernel that we're ready.\n",
              "        channel.send({})\n",
              "        if (message.buffers) {\n",
              "          for (const buffer of message.buffers) {\n",
              "            buffers.push(buffer);\n",
              "            downloaded += buffer.byteLength;\n",
              "            progress.value = downloaded;\n",
              "          }\n",
              "        }\n",
              "      }\n",
              "      const blob = new Blob(buffers, {type: 'application/binary'});\n",
              "      const a = document.createElement('a');\n",
              "      a.href = window.URL.createObjectURL(blob);\n",
              "      a.download = filename;\n",
              "      div.appendChild(a);\n",
              "      a.click();\n",
              "      div.remove();\n",
              "    }\n",
              "  "
            ]
          },
          "metadata": {}
        },
        {
          "output_type": "display_data",
          "data": {
            "text/plain": [
              "<IPython.core.display.Javascript object>"
            ],
            "application/javascript": [
              "download(\"download_0b133569-bfd6-4456-839c-dc0312c3666a\", \"BDG_EGPoint_fixed.zip\", 3047649)"
            ]
          },
          "metadata": {}
        },
        {
          "output_type": "stream",
          "name": "stdout",
          "text": [
            "✅ Processamento concluído! O arquivo ZIP está pronto para download.\n"
          ]
        }
      ],
      "source": [
        "# === 5. GARANTIR QUE OS VALORES NUMÉRICOS ESTEJAM NO FORMATO CORRETO ===\n",
        "for col in gdf_selected.select_dtypes(include=['number']).columns:\n",
        "    gdf_selected[col] = gdf_selected[col].astype(float)\n",
        "\n",
        "# === 6. SALVAR O NOVO SHAPEFILE ===\n",
        "output_folder = \"/content/shapefile_processed\"\n",
        "os.makedirs(output_folder, exist_ok=True)\n",
        "output_shapefile_path = os.path.join(output_folder, \"BDG_EGPoint_fixed.shp\")\n",
        "\n",
        "# Criar GeoDataFrame com geometria original\n",
        "gdf_selected = gpd.GeoDataFrame(gdf_selected, geometry=gdf.geometry)\n",
        "\n",
        "# Salvar no formato ESRI Shapefile com codificação compatível\n",
        "gdf_selected.to_file(output_shapefile_path, driver=\"ESRI Shapefile\", encoding=\"latin1\")\n",
        "\n",
        "# === 7. COMPACTAR O SHAPEFILE PARA DOWNLOAD ===\n",
        "output_zip_path = \"/content/BDG_EGPoint_fixed.zip\"\n",
        "with zipfile.ZipFile(output_zip_path, 'w', zipfile.ZIP_DEFLATED) as zipf:\n",
        "    for ext in [\".shp\", \".shx\", \".dbf\", \".prj\", \".cpg\"]:\n",
        "        file_path = os.path.join(output_folder, \"BDG_EGPoint_fixed\" + ext)\n",
        "        if os.path.exists(file_path):\n",
        "            zipf.write(file_path, os.path.basename(file_path))\n",
        "\n",
        "# Fazer o download do novo shapefile compactado\n",
        "files.download(output_zip_path)\n",
        "\n",
        "print(\"✅ Processamento concluído! O arquivo ZIP está pronto para download.\")\n"
      ]
    }
  ]
}